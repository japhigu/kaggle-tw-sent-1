{
 "cells": [
  {
   "cell_type": "code",
   "execution_count": 89,
   "metadata": {
    "collapsed": false
   },
   "outputs": [
    {
     "name": "stdout",
     "output_type": "stream",
     "text": [
      "[nltk_data] Downloading package punkt to\n",
      "[nltk_data]     C:\\Users\\goldaw\\AppData\\Roaming\\nltk_data...\n",
      "[nltk_data]   Package punkt is already up-to-date!\n",
      "[nltk_data] Downloading package stopwords to\n",
      "[nltk_data]     C:\\Users\\goldaw\\AppData\\Roaming\\nltk_data...\n",
      "[nltk_data]   Package stopwords is already up-to-date!\n"
     ]
    }
   ],
   "source": [
    "import pandas as pd\n",
    "\n",
    "import matplotlib.pyplot as plt\n",
    "from nltk.tokenize import sent_tokenize\n",
    "from nltk.tokenize import word_tokenize\n",
    "from nltk.stem.porter import PorterStemmer\n",
    "import nltk\n",
    "nltk.download('punkt')\n",
    "nltk.download(\"stopwords\") \n",
    "from nltk.corpus import stopwords\n",
    "\n",
    "import re\n",
    "import string\n",
    "import time"
   ]
  },
  {
   "cell_type": "code",
   "execution_count": 90,
   "metadata": {
    "collapsed": true
   },
   "outputs": [],
   "source": [
    "pd.options.mode.chained_assignment = None"
   ]
  },
  {
   "cell_type": "code",
   "execution_count": 91,
   "metadata": {
    "collapsed": true
   },
   "outputs": [],
   "source": [
    "URL = 'train_data.csv'\n",
    "def load_data(url=URL):\n",
    "\treturn pd.read_csv(url)"
   ]
  },
  {
   "cell_type": "code",
   "execution_count": 92,
   "metadata": {
    "collapsed": true
   },
   "outputs": [],
   "source": [
    "df = load_data()"
   ]
  },
  {
   "cell_type": "code",
   "execution_count": 93,
   "metadata": {
    "collapsed": false
   },
   "outputs": [
    {
     "data": {
      "text/html": [
       "<div>\n",
       "<style>\n",
       "    .dataframe thead tr:only-child th {\n",
       "        text-align: right;\n",
       "    }\n",
       "\n",
       "    .dataframe thead th {\n",
       "        text-align: left;\n",
       "    }\n",
       "\n",
       "    .dataframe tbody tr th {\n",
       "        vertical-align: top;\n",
       "    }\n",
       "</style>\n",
       "<table border=\"1\" class=\"dataframe\">\n",
       "  <thead>\n",
       "    <tr style=\"text-align: right;\">\n",
       "      <th></th>\n",
       "      <th>sentiment</th>\n",
       "      <th>text</th>\n",
       "    </tr>\n",
       "  </thead>\n",
       "  <tbody>\n",
       "    <tr>\n",
       "      <th>10494</th>\n",
       "      <td>Negative</td>\n",
       "      <td>The question about God and the Veterans. What ...</td>\n",
       "    </tr>\n",
       "    <tr>\n",
       "      <th>10495</th>\n",
       "      <td>Negative</td>\n",
       "      <td>I thought #LastComicStanding airs on Wednesday...</td>\n",
       "    </tr>\n",
       "    <tr>\n",
       "      <th>10496</th>\n",
       "      <td>Negative</td>\n",
       "      <td>Bingo! Put that in your article!!! #GOPDebates...</td>\n",
       "    </tr>\n",
       "    <tr>\n",
       "      <th>10497</th>\n",
       "      <td>Negative</td>\n",
       "      <td>RT @RWSurferGirl: Fox is cherry picking the ca...</td>\n",
       "    </tr>\n",
       "    <tr>\n",
       "      <th>10498</th>\n",
       "      <td>Neutral</td>\n",
       "      <td>Waiting on Trumps answer about God #GOPDebates...</td>\n",
       "    </tr>\n",
       "  </tbody>\n",
       "</table>\n",
       "</div>"
      ],
      "text/plain": [
       "      sentiment                                               text\n",
       "10494  Negative  The question about God and the Veterans. What ...\n",
       "10495  Negative  I thought #LastComicStanding airs on Wednesday...\n",
       "10496  Negative  Bingo! Put that in your article!!! #GOPDebates...\n",
       "10497  Negative  RT @RWSurferGirl: Fox is cherry picking the ca...\n",
       "10498   Neutral  Waiting on Trumps answer about God #GOPDebates..."
      ]
     },
     "execution_count": 93,
     "metadata": {},
     "output_type": "execute_result"
    }
   ],
   "source": [
    "df.tail()"
   ]
  },
  {
   "cell_type": "code",
   "execution_count": 187,
   "metadata": {
    "collapsed": false
   },
   "outputs": [],
   "source": [
    "def cleantweet1(s):\n",
    "\t'''\n",
    "\t:s : string; a tweet\n",
    "\t:return : list; words that don't contain url, @somebody, and in utf-8 and lower case\n",
    "\t'''\n",
    "\t#Read matchpattern from function property (introduced later)\n",
    "\ts = re.sub(cleantweet1.pattern, '', s, 1)\n",
    "\tremove_punctuation_map = dict.fromkeys(map(ord, string.punctuation))\n",
    "\t# actually remove the punctutation\n",
    "\ts = s.translate(remove_punctuation_map)\n",
    "\treturn s\n",
    "\n",
    "def cleantweet2(s):\n",
    "\t'''\n",
    "\t:s : string; a tweet\n",
    "\t:return : list of hashtags'''\n",
    "\ts = re.findall(r'#(\\w+)', s)\n",
    "\treturn s\n",
    "\n",
    "def cleantweet3(s):\n",
    "\t'''\n",
    "\t:s : string; a tweet\n",
    "\t:return : tweet without hashtags'''\n",
    "\t#Read matchpattern from function property (introduced later)\n",
    "\ts = re.sub(cleantweet3.pattern, '', s, 1)\n",
    "\tremove_punctuation_map = dict.fromkeys(map(ord, string.punctuation))\n",
    "\t# actually remove the punctutation\n",
    "\ts = s.translate(remove_punctuation_map)\n",
    "\treturn s\n",
    "\n",
    "def cleantweet4(s):\n",
    "\t'''\n",
    "\t:s : string; a tweet\n",
    "\t:return : list; words that don't contain url, @somebody, and in utf-8 and lower case\n",
    "\t'''\n",
    "\ts = re.sub(cleantweet4.pattern, '', s, 1)\n",
    "\tremove_punctuation_map = dict.fromkeys(map(ord, string.punctuation))\n",
    "\t# actually remove the punctutation\n",
    "\ts = s.translate(remove_punctuation_map)\n",
    "\t# tokenize tweet into sentences\n",
    "\tsents = sent_tokenize(s)\n",
    "# tokenize sentences into list of words\n",
    "\twords = [word_tokenize(s) for s in sents]\n",
    "# NO IDEA\n",
    "\twords = [e for sent in words for e in sent]\n",
    "\treturn [cleantweet4.stemmer.stem(e.lower()) for e in words]"
   ]
  },
  {
   "cell_type": "code",
   "execution_count": 188,
   "metadata": {
    "collapsed": false
   },
   "outputs": [],
   "source": [
    "cleantweet1.pattern = re.compile(r'(@\\w+)')\n",
    "cleantweet3.pattern = re.compile(r'(#\\w+)|(@\\w+)')\n",
    "#start = time.perf_counter()\n",
    "#df[\"text_clean1\"] = df.iloc[0:].text.apply(cleantweet1)\n",
    "#following is consistently faster\n",
    "df.loc[:,'text_clean1'] = df.loc[:,'text'].map(cleantweet1)\n",
    "#end = time.perf_counter()\n",
    "df.loc[:,'hashtags'] = df.loc[:,'text'].map(cleantweet2)\n",
    "df.loc[:,'no_names_hashtags'] = df.loc[:,'text'].map(cleantweet3)\n",
    "#print(end - start)\n",
    "# Removing the morphological and inflexional endings from words in English.\n",
    "cleantweet4.stemmer = PorterStemmer()\n",
    "cleantweet4.pattern = re.compile(r'@\\w+')\n",
    "df.loc[:,'wordlist'] = df.loc[:,'text'].map(cleantweet4)\n",
    "df.loc[:,'wordstring'] = df.loc[:,'wordlist'].map(lambda slocal:' '.join(slocal))"
   ]
  },
  {
   "cell_type": "code",
   "execution_count": 196,
   "metadata": {
    "collapsed": false
   },
   "outputs": [
    {
     "data": {
      "text/html": [
       "<div>\n",
       "<style>\n",
       "    .dataframe thead tr:only-child th {\n",
       "        text-align: right;\n",
       "    }\n",
       "\n",
       "    .dataframe thead th {\n",
       "        text-align: left;\n",
       "    }\n",
       "\n",
       "    .dataframe tbody tr th {\n",
       "        vertical-align: top;\n",
       "    }\n",
       "</style>\n",
       "<table border=\"1\" class=\"dataframe\">\n",
       "  <thead>\n",
       "    <tr style=\"text-align: right;\">\n",
       "      <th></th>\n",
       "      <th>sentiment</th>\n",
       "      <th>text</th>\n",
       "      <th>text_clean1</th>\n",
       "      <th>hashtags</th>\n",
       "      <th>no_hashtags</th>\n",
       "      <th>no_names_hashtags</th>\n",
       "      <th>wordlist</th>\n",
       "      <th>wordstring</th>\n",
       "    </tr>\n",
       "  </thead>\n",
       "  <tbody>\n",
       "    <tr>\n",
       "      <th>0</th>\n",
       "      <td>Neutral</td>\n",
       "      <td>RT @NancyLeeGrahn: How did everyone feel about...</td>\n",
       "      <td>RT  How did everyone feel about the Climate Ch...</td>\n",
       "      <td>[GOPDebate]</td>\n",
       "      <td>RT  How did everyone feel about the Climate Ch...</td>\n",
       "      <td>RT  How did everyone feel about the Climate Ch...</td>\n",
       "      <td>[rt, how, did, everyon, feel, about, the, clim...</td>\n",
       "      <td>rt how did everyon feel about the climat chang...</td>\n",
       "    </tr>\n",
       "    <tr>\n",
       "      <th>1</th>\n",
       "      <td>Positive</td>\n",
       "      <td>RT @ScottWalker: Didn't catch the full #GOPdeb...</td>\n",
       "      <td>RT  Didnt catch the full GOPdebate last night ...</td>\n",
       "      <td>[GOPdebate, Walker16]</td>\n",
       "      <td>RT  Didnt catch the full GOPdebate last night ...</td>\n",
       "      <td>RT  Didnt catch the full GOPdebate last night ...</td>\n",
       "      <td>[rt, didnt, catch, the, full, gopdeb, last, ni...</td>\n",
       "      <td>rt didnt catch the full gopdeb last night here...</td>\n",
       "    </tr>\n",
       "    <tr>\n",
       "      <th>2</th>\n",
       "      <td>Neutral</td>\n",
       "      <td>RT @TJMShow: No mention of Tamir Rice and the ...</td>\n",
       "      <td>RT  No mention of Tamir Rice and the GOPDebate...</td>\n",
       "      <td>[GOPDebate]</td>\n",
       "      <td>RT  No mention of Tamir Rice and the GOPDebate...</td>\n",
       "      <td>RT  No mention of Tamir Rice and the GOPDebate...</td>\n",
       "      <td>[rt, no, mention, of, tamir, rice, and, the, g...</td>\n",
       "      <td>rt no mention of tamir rice and the gopdeb wa ...</td>\n",
       "    </tr>\n",
       "    <tr>\n",
       "      <th>3</th>\n",
       "      <td>Positive</td>\n",
       "      <td>RT @RobGeorge: That Carly Fiorina is trending ...</td>\n",
       "      <td>RT  That Carly Fiorina is trending  hours afte...</td>\n",
       "      <td>[GOPdebate]</td>\n",
       "      <td>RT  That Carly Fiorina is trending  hours afte...</td>\n",
       "      <td>RT  That Carly Fiorina is trending  hours afte...</td>\n",
       "      <td>[rt, that, carli, fiorina, is, trend, hour, af...</td>\n",
       "      <td>rt that carli fiorina is trend hour after her ...</td>\n",
       "    </tr>\n",
       "    <tr>\n",
       "      <th>4</th>\n",
       "      <td>Positive</td>\n",
       "      <td>RT @DanScavino: #GOPDebate w/ @realDonaldTrump...</td>\n",
       "      <td>RT  GOPDebate w realDonaldTrump delivered the ...</td>\n",
       "      <td>[GOPDebate, Trump2016]</td>\n",
       "      <td>RT  GOPDebate w realDonaldTrump delivered the ...</td>\n",
       "      <td>RT  GOPDebate w realDonaldTrump delivered the ...</td>\n",
       "      <td>[rt, gopdeb, w, realdonaldtrump, deliv, the, h...</td>\n",
       "      <td>rt gopdeb w realdonaldtrump deliv the highest ...</td>\n",
       "    </tr>\n",
       "  </tbody>\n",
       "</table>\n",
       "</div>"
      ],
      "text/plain": [
       "  sentiment                                               text  \\\n",
       "0   Neutral  RT @NancyLeeGrahn: How did everyone feel about...   \n",
       "1  Positive  RT @ScottWalker: Didn't catch the full #GOPdeb...   \n",
       "2   Neutral  RT @TJMShow: No mention of Tamir Rice and the ...   \n",
       "3  Positive  RT @RobGeorge: That Carly Fiorina is trending ...   \n",
       "4  Positive  RT @DanScavino: #GOPDebate w/ @realDonaldTrump...   \n",
       "\n",
       "                                         text_clean1                hashtags  \\\n",
       "0  RT  How did everyone feel about the Climate Ch...             [GOPDebate]   \n",
       "1  RT  Didnt catch the full GOPdebate last night ...   [GOPdebate, Walker16]   \n",
       "2  RT  No mention of Tamir Rice and the GOPDebate...             [GOPDebate]   \n",
       "3  RT  That Carly Fiorina is trending  hours afte...             [GOPdebate]   \n",
       "4  RT  GOPDebate w realDonaldTrump delivered the ...  [GOPDebate, Trump2016]   \n",
       "\n",
       "                                         no_hashtags  \\\n",
       "0  RT  How did everyone feel about the Climate Ch...   \n",
       "1  RT  Didnt catch the full GOPdebate last night ...   \n",
       "2  RT  No mention of Tamir Rice and the GOPDebate...   \n",
       "3  RT  That Carly Fiorina is trending  hours afte...   \n",
       "4  RT  GOPDebate w realDonaldTrump delivered the ...   \n",
       "\n",
       "                                   no_names_hashtags  \\\n",
       "0  RT  How did everyone feel about the Climate Ch...   \n",
       "1  RT  Didnt catch the full GOPdebate last night ...   \n",
       "2  RT  No mention of Tamir Rice and the GOPDebate...   \n",
       "3  RT  That Carly Fiorina is trending  hours afte...   \n",
       "4  RT  GOPDebate w realDonaldTrump delivered the ...   \n",
       "\n",
       "                                            wordlist  \\\n",
       "0  [rt, how, did, everyon, feel, about, the, clim...   \n",
       "1  [rt, didnt, catch, the, full, gopdeb, last, ni...   \n",
       "2  [rt, no, mention, of, tamir, rice, and, the, g...   \n",
       "3  [rt, that, carli, fiorina, is, trend, hour, af...   \n",
       "4  [rt, gopdeb, w, realdonaldtrump, deliv, the, h...   \n",
       "\n",
       "                                          wordstring  \n",
       "0  rt how did everyon feel about the climat chang...  \n",
       "1  rt didnt catch the full gopdeb last night here...  \n",
       "2  rt no mention of tamir rice and the gopdeb wa ...  \n",
       "3  rt that carli fiorina is trend hour after her ...  \n",
       "4  rt gopdeb w realdonaldtrump deliv the highest ...  "
      ]
     },
     "execution_count": 196,
     "metadata": {},
     "output_type": "execute_result"
    }
   ],
   "source": [
    "df.head()"
   ]
  },
  {
   "cell_type": "code",
   "execution_count": 194,
   "metadata": {
    "collapsed": false
   },
   "outputs": [],
   "source": []
  },
  {
   "cell_type": "code",
   "execution_count": null,
   "metadata": {
    "collapsed": true
   },
   "outputs": [],
   "source": []
  }
 ],
 "metadata": {
  "kernelspec": {
   "display_name": "Python 3",
   "language": "python",
   "name": "python3"
  },
  "language_info": {
   "codemirror_mode": {
    "name": "ipython",
    "version": 3
   },
   "file_extension": ".py",
   "mimetype": "text/x-python",
   "name": "python",
   "nbconvert_exporter": "python",
   "pygments_lexer": "ipython3",
   "version": "3.6.0"
  }
 },
 "nbformat": 4,
 "nbformat_minor": 2
}
