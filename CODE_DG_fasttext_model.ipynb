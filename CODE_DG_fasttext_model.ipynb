{
 "cells": [
  {
   "cell_type": "code",
   "execution_count": 6,
   "metadata": {
    "collapsed": false
   },
   "outputs": [
    {
     "name": "stdout",
     "output_type": "stream",
     "text": [
      "[nltk_data] Downloading package punkt to\n",
      "[nltk_data]     C:\\Users\\goldaw\\AppData\\Roaming\\nltk_data...\n",
      "[nltk_data]   Package punkt is already up-to-date!\n",
      "[nltk_data] Downloading package stopwords to\n",
      "[nltk_data]     C:\\Users\\goldaw\\AppData\\Roaming\\nltk_data...\n",
      "[nltk_data]   Package stopwords is already up-to-date!\n"
     ]
    }
   ],
   "source": [
    "import pandas as pd\n",
    "import fastparquet\n",
    "from gensim.models.wrappers import FastText\n",
    "import csv\n",
    "\n",
    "import matplotlib.pyplot as plt\n",
    "from nltk.tokenize import sent_tokenize\n",
    "from nltk.tokenize import word_tokenize\n",
    "from nltk.stem.porter import PorterStemmer\n",
    "import nltk\n",
    "nltk.download('punkt')\n",
    "nltk.download(\"stopwords\") \n",
    "from nltk.corpus import stopwords\n",
    "\n",
    "import re\n",
    "import string\n"
   ]
  },
  {
   "cell_type": "code",
   "execution_count": 2,
   "metadata": {
    "collapsed": true
   },
   "outputs": [],
   "source": [
    "pd.options.mode.chained_assignment = None"
   ]
  },
  {
   "cell_type": "code",
   "execution_count": 3,
   "metadata": {
    "collapsed": true
   },
   "outputs": [],
   "source": [
    "# load data from precomputed dataframe\n",
    "pfile = fastparquet.ParquetFile('5col_DFrame.parq') \n",
    "df = pfile.to_pandas() # all columns \n",
    "#df2 = pfile.to_pandas(columns=['floats', 'times']) # pick some columns"
   ]
  },
  {
   "cell_type": "code",
   "execution_count": 4,
   "metadata": {
    "collapsed": false
   },
   "outputs": [
    {
     "data": {
      "text/html": [
       "<div>\n",
       "<style>\n",
       "    .dataframe thead tr:only-child th {\n",
       "        text-align: right;\n",
       "    }\n",
       "\n",
       "    .dataframe thead th {\n",
       "        text-align: left;\n",
       "    }\n",
       "\n",
       "    .dataframe tbody tr th {\n",
       "        vertical-align: top;\n",
       "    }\n",
       "</style>\n",
       "<table border=\"1\" class=\"dataframe\">\n",
       "  <thead>\n",
       "    <tr style=\"text-align: right;\">\n",
       "      <th></th>\n",
       "      <th>sentiment</th>\n",
       "      <th>text</th>\n",
       "      <th>text_clean1</th>\n",
       "      <th>hashtags</th>\n",
       "      <th>wordlist</th>\n",
       "      <th>no_names_hashtags</th>\n",
       "    </tr>\n",
       "  </thead>\n",
       "  <tbody>\n",
       "    <tr>\n",
       "      <th>10494</th>\n",
       "      <td>Negative</td>\n",
       "      <td>The question about God and the Veterans. What ...</td>\n",
       "      <td>question god veterans softball gopdebates</td>\n",
       "      <td>[gopdebates]</td>\n",
       "      <td>[question, god, veterans, softball]</td>\n",
       "      <td>question god veterans softball</td>\n",
       "    </tr>\n",
       "    <tr>\n",
       "      <th>10495</th>\n",
       "      <td>Negative</td>\n",
       "      <td>I thought #LastComicStanding airs on Wednesday...</td>\n",
       "      <td>thought lastcomicstanding airs wednesday night...</td>\n",
       "      <td>[lastcomicstanding, gopdebates]</td>\n",
       "      <td>[thought, airs, wednesday, nights]</td>\n",
       "      <td>thought airs wednesday nights</td>\n",
       "    </tr>\n",
       "    <tr>\n",
       "      <th>10496</th>\n",
       "      <td>Negative</td>\n",
       "      <td>Bingo! Put that in your article!!! #GOPDebates...</td>\n",
       "      <td>bingo put article gopdebates httpstcoxaaqwagf</td>\n",
       "      <td>[gopdebates]</td>\n",
       "      <td>[bingo, put, article]</td>\n",
       "      <td>bingo put article</td>\n",
       "    </tr>\n",
       "    <tr>\n",
       "      <th>10497</th>\n",
       "      <td>Negative</td>\n",
       "      <td>RT @RWSurferGirl: Fox is cherry picking the ca...</td>\n",
       "      <td>fox cherry picking candidates jeb softball que...</td>\n",
       "      <td>[gopdebates, gopdebates]</td>\n",
       "      <td>[fox, cherry, picking, candidates, jeb, softba...</td>\n",
       "      <td>fox cherry picking candidates jeb softball que...</td>\n",
       "    </tr>\n",
       "    <tr>\n",
       "      <th>10498</th>\n",
       "      <td>Neutral</td>\n",
       "      <td>Waiting on Trumps answer about God #GOPDebates...</td>\n",
       "      <td>waiting trumps answer god gopdebates aintenoug...</td>\n",
       "      <td>[gopdebates, aintenoughpopcornforthis]</td>\n",
       "      <td>[waiting, trumps, answer, god]</td>\n",
       "      <td>waiting trumps answer god</td>\n",
       "    </tr>\n",
       "  </tbody>\n",
       "</table>\n",
       "</div>"
      ],
      "text/plain": [
       "      sentiment                                               text  \\\n",
       "10494  Negative  The question about God and the Veterans. What ...   \n",
       "10495  Negative  I thought #LastComicStanding airs on Wednesday...   \n",
       "10496  Negative  Bingo! Put that in your article!!! #GOPDebates...   \n",
       "10497  Negative  RT @RWSurferGirl: Fox is cherry picking the ca...   \n",
       "10498   Neutral  Waiting on Trumps answer about God #GOPDebates...   \n",
       "\n",
       "                                             text_clean1  \\\n",
       "10494          question god veterans softball gopdebates   \n",
       "10495  thought lastcomicstanding airs wednesday night...   \n",
       "10496      bingo put article gopdebates httpstcoxaaqwagf   \n",
       "10497  fox cherry picking candidates jeb softball que...   \n",
       "10498  waiting trumps answer god gopdebates aintenoug...   \n",
       "\n",
       "                                     hashtags  \\\n",
       "10494                            [gopdebates]   \n",
       "10495         [lastcomicstanding, gopdebates]   \n",
       "10496                            [gopdebates]   \n",
       "10497                [gopdebates, gopdebates]   \n",
       "10498  [gopdebates, aintenoughpopcornforthis]   \n",
       "\n",
       "                                                wordlist  \\\n",
       "10494                [question, god, veterans, softball]   \n",
       "10495                 [thought, airs, wednesday, nights]   \n",
       "10496                              [bingo, put, article]   \n",
       "10497  [fox, cherry, picking, candidates, jeb, softba...   \n",
       "10498                     [waiting, trumps, answer, god]   \n",
       "\n",
       "                                       no_names_hashtags  \n",
       "10494                     question god veterans softball  \n",
       "10495                      thought airs wednesday nights  \n",
       "10496                                  bingo put article  \n",
       "10497  fox cherry picking candidates jeb softball que...  \n",
       "10498                          waiting trumps answer god  "
      ]
     },
     "execution_count": 4,
     "metadata": {},
     "output_type": "execute_result"
    }
   ],
   "source": [
    "df.tail()"
   ]
  },
  {
   "cell_type": "code",
   "execution_count": 7,
   "metadata": {
    "collapsed": false
   },
   "outputs": [],
   "source": [
    "# write data to txt\n",
    "dftrain = pd.DataFrame()\n",
    "#dftrain.loc[:, 'data'] = \"__\" + df.loc[:,'sentiment'] + \"__\" + \" \" + df.loc[:,'text_clean1']\n",
    "\n",
    "dftrain.loc[:, 'data'] = \"__label__\" + df.loc[:,'sentiment'] + \" \" + df.loc[:,'text_clean1']\n",
    "\n",
    "\n",
    "\n",
    "with open('train.txt', 'w') as f:\n",
    "    dftrain.iloc[0:10000].to_csv(f, header=None, index=None, sep='\\n', quoting=csv.QUOTE_NONE, quotechar='')\n",
    "\n",
    "\n",
    "with open('test.txt', 'w') as f:\n",
    "    dftrain.iloc[10000:].to_csv(f, header=None, index=None, sep='\\n', quoting=csv.QUOTE_NONE, quotechar='')"
   ]
  },
  {
   "cell_type": "code",
   "execution_count": 8,
   "metadata": {
    "collapsed": false
   },
   "outputs": [
    {
     "ename": "ModuleNotFoundError",
     "evalue": "No module named 'fasttext'",
     "output_type": "error",
     "traceback": [
      "\u001b[0;31m---------------------------------------------------------------------------\u001b[0m",
      "\u001b[0;31mModuleNotFoundError\u001b[0m                       Traceback (most recent call last)",
      "\u001b[0;32m<ipython-input-8-c5d94cc413b0>\u001b[0m in \u001b[0;36m<module>\u001b[0;34m()\u001b[0m\n\u001b[1;32m      1\u001b[0m \u001b[1;31m###FAST TEXT###\u001b[0m\u001b[1;33m\u001b[0m\u001b[1;33m\u001b[0m\u001b[0m\n\u001b[0;32m----> 2\u001b[0;31m \u001b[1;32mimport\u001b[0m \u001b[0mfasttext\u001b[0m\u001b[1;33m\u001b[0m\u001b[0m\n\u001b[0m\u001b[1;32m      3\u001b[0m \u001b[1;33m\u001b[0m\u001b[0m\n\u001b[1;32m      4\u001b[0m \u001b[0mclassifier\u001b[0m \u001b[1;33m=\u001b[0m \u001b[0mfasttext\u001b[0m\u001b[1;33m.\u001b[0m\u001b[0msupervised\u001b[0m\u001b[1;33m(\u001b[0m\u001b[1;34m'train.txt'\u001b[0m\u001b[1;33m,\u001b[0m \u001b[1;34m'model'\u001b[0m\u001b[1;33m)\u001b[0m\u001b[1;33m\u001b[0m\u001b[0m\n",
      "\u001b[0;31mModuleNotFoundError\u001b[0m: No module named 'fasttext'"
     ]
    }
   ],
   "source": [
    "###FAST TEXT###\n",
    "import fasttext\n",
    "\n",
    "classifier = fasttext.supervised('train.txt', 'model')"
   ]
  },
  {
   "cell_type": "code",
   "execution_count": null,
   "metadata": {
    "collapsed": true
   },
   "outputs": [],
   "source": [
    "result = classifier.test('test.txt')\n",
    "\n",
    "\n",
    "print ('P@1:', result.precision)\n",
    "print ('R@1:', result.recall)\n",
    "print ('Number of examples:', result.nexamples)"
   ]
  },
  {
   "cell_type": "code",
   "execution_count": null,
   "metadata": {
    "collapsed": true
   },
   "outputs": [],
   "source": [
    "texts = ['motherfucking', 'I really like what senator mccain said about the future of our great nation']\n",
    "labels = classifier.predict(texts)\n",
    "print(labels)"
   ]
  }
 ],
 "metadata": {
  "kernelspec": {
   "display_name": "Python 3",
   "language": "python",
   "name": "python3"
  },
  "language_info": {
   "codemirror_mode": {
    "name": "ipython",
    "version": 3
   },
   "file_extension": ".py",
   "mimetype": "text/x-python",
   "name": "python",
   "nbconvert_exporter": "python",
   "pygments_lexer": "ipython3",
   "version": "3.6.0"
  }
 },
 "nbformat": 4,
 "nbformat_minor": 2
}
